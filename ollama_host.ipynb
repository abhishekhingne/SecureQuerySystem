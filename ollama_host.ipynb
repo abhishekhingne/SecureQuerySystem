{
  "nbformat": 4,
  "nbformat_minor": 0,
  "metadata": {
    "colab": {
      "provenance": [],
      "gpuType": "T4"
    },
    "kernelspec": {
      "name": "python3",
      "display_name": "Python 3"
    },
    "language_info": {
      "name": "python"
    },
    "accelerator": "GPU"
  },
  "cells": [
    {
      "cell_type": "code",
      "execution_count": null,
      "metadata": {
        "id": "B54_kLaIrjdx"
      },
      "outputs": [],
      "source": [
        "# Download and install ollama to the system\n",
        "!curl https://ollama.ai/install.sh | sh"
      ]
    },
    {
      "cell_type": "code",
      "source": [
        "# Install python dependencies\n",
        "!pip install aiohttp pyngrok python-dotenv"
      ],
      "metadata": {
        "id": "yrG_GY_1r5oe"
      },
      "execution_count": null,
      "outputs": []
    },
    {
      "cell_type": "code",
      "source": [
        "import os\n",
        "import asyncio\n",
        "from dotenv import load_dotenv\n",
        "\n",
        "#Loading environment variables\n",
        "load_dotenv()\n",
        "\n",
        "# Set LD_LIBRARY_PATH so the system NVIDIA library\n",
        "os.environ.update({'LD_LIBRARY_PATH': '/usr/lib64-nvidia'})\n",
        "\n",
        "async def run_process(cmd):\n",
        "    #Create a subprocess\n",
        "    print('>>> starting', *cmd)\n",
        "    p = await asyncio.subprocess.create_subprocess_exec(\n",
        "        *cmd,\n",
        "        stdout=asyncio.subprocess.PIPE,\n",
        "        stderr=asyncio.subprocess.PIPE,\n",
        "    )\n",
        "\n",
        "    # Collect the output\n",
        "    async def pipe(lines):\n",
        "        async for line in lines:\n",
        "                print(line.strip().decode('utf-8'))\n",
        "\n",
        "    await asyncio.gather(\n",
        "        pipe(p.stdout),\n",
        "        pipe(p.stderr),\n",
        "    )"
      ],
      "metadata": {
        "id": "rVRP9o3Yr_a_"
      },
      "execution_count": 3,
      "outputs": []
    },
    {
      "cell_type": "code",
      "source": [
        "#register an account at ngrok.com and create an authtoken and place it here\n",
        "await asyncio.gather(\n",
        "    run_process(['ngrok', 'config', 'add-authtoken', os.environ[\"NGROK_TOKEN\"]])\n",
        ")"
      ],
      "metadata": {
        "id": "XyGE_Pm4sDE0"
      },
      "execution_count": null,
      "outputs": []
    },
    {
      "cell_type": "code",
      "source": [
        "# run ollama subprocess and expose it from localhost:11434 with ngrok to the public with a url\n",
        "await asyncio.gather(\n",
        "    run_process(['ollama', 'serve']),\n",
        "    run_process(['ngrok', 'http', '--log', 'stderr', '11434', '--host-header', 'localhost:11434'])\n",
        ")"
      ],
      "metadata": {
        "id": "dnyjTEUZsaV_"
      },
      "execution_count": null,
      "outputs": []
    },
    {
      "cell_type": "code",
      "source": [],
      "metadata": {
        "id": "zQCAL3ePse69"
      },
      "execution_count": null,
      "outputs": []
    }
  ]
}